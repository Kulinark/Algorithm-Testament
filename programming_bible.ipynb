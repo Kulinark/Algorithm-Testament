{
 "cells": [
  {
   "cell_type": "markdown",
   "metadata": {},
   "source": [
    "\n",
    "# Воспроизведение \"King James Programming\" для русского языка, или \"Ветхий алгоритм\"\n",
    "\n",
    "http://kingjamesprogramming.tumblr.com/"
   ]
  },
  {
   "cell_type": "markdown",
   "metadata": {},
   "source": [
    "## Мотивация"
   ]
  },
  {
   "cell_type": "markdown",
   "metadata": {},
   "source": [
    "Для английского языка есть марковская цепь, натренированная на книгах King James Bible, Structure and Interpretation of Computer Programs, и некоторых записках Эрика Раймонда.\n",
    "\n",
    "Модель генерирует такие замечательные высказывания, как:\n",
    "> hath it not been for the singular taste of old Unix, “new Unix” would not exist\n",
    "\n",
    "Или, моё любимое,\n",
    "> The interpreter will run slowly this time because of the will of the LORD.\n",
    "\n",
    "Я подумала и решила: а почему бы не сделать такое для русского?"
   ]
  },
  {
   "cell_type": "markdown",
   "metadata": {},
   "source": [
    "## Данные"
   ]
  },
  {
   "cell_type": "markdown",
   "metadata": {},
   "source": [
    "В качестве обучающих текстов я взяла Ватхий Завет и книги \"Вводный курс алгоритмов\" (Кормен) и \"UNIX. Профессиональное программирование\"."
   ]
  },
  {
   "cell_type": "code",
   "execution_count": 2,
   "metadata": {},
   "outputs": [
    {
     "name": "stdout",
     "output_type": "stream",
     "text": [
      "ЙЙ\n",
      "\n",
      "ВВВВ ЕЕЕЕ Т Х И И И Й Й Й\n",
      "\n",
      "В В Е Т Х Х ИИ И ЙЙ Й\n",
      "\n",
      "В В Е Т Х Х И И Й Й\n",
      "\n",
      "ВВВВ ЕЕЕЕЕ Т Х Х И И Й Й\n",
      "\n",
      "***\n",
      "\n",
      "\n",
      "1 В начале сотворил Бог небо и землю.\n",
      "\n",
      "2 Земля же была безвидна и пуста, и тьма над бездною, и Дух Божий носился над водою.\n",
      "\n",
      "3 И сказал Бог: да будет свет. И стал свет.\n",
      "\n",
      "4 И увидел Бог свет, что он хорош, и отделил Бог свет от тьмы.\n",
      "\n",
      "5 И назвал Бог свет днем, а тьму ночью. И был вечер, и было утро: день один.\n",
      "\n",
      "6 И сказал Бог: да будет твердь посреди воды, и да отделяет она воду от воды. [И стало так.]\n",
      "\n",
      "7 И создал Бог твердь, и отделил воду, которая под твердью, от воды, которая над твердью. И \n",
      "1837153\n"
     ]
    }
   ],
   "source": [
    "# читаем ветхий завет\n",
    "with open('bible.txt', encoding='cp1251') as f:\n",
    "    bible = f.read()\n",
    "    print(bible[400:500])\n",
    "    print('***')\n",
    "    bible = bible[700:] # там было странное\n",
    "    bible = bible[:-365]\n",
    "print(bible[:500])\n",
    "print(len(bible))"
   ]
  },
  {
   "cell_type": "code",
   "execution_count": 3,
   "metadata": {},
   "outputs": [
    {
     "name": "stdout",
     "output_type": "stream",
     "text": [
      "\n",
      "\n",
      "В начале сотворил Бог небо и землю.\n",
      "\n",
      "Земля же была безвидна и пуста, и тьма над бездною, и Дух Божий носился над водою.\n",
      "\n",
      "И сказал Бог: да будет свет. И стал свет.\n",
      "\n",
      "И увидел Бог свет, что он хорош, и отделил Бог свет от тьмы.\n",
      "\n",
      "И назвал Бог свет днем, а тьму ночью. И был вечер, и было утро: день один.\n",
      "\n",
      "И сказал Бог: да будет твердь посреди воды, и да отделяет она воду от воды. [И стало так.]\n",
      "\n",
      "И создал Бог твердь, и отделил воду, которая под твердью, от воды, которая над твердью. И стало так.\n",
      "\n",
      "И \n"
     ]
    }
   ],
   "source": [
    "# чистим ветхий завет\n",
    "import re\n",
    "bible = [re.sub('^[0-9]+ ', '', l) for l in bible.split('\\n\\n')]\n",
    "bible = '\\n\\n'.join(bible).replace('=', '')\n",
    "print(bible[:500])"
   ]
  },
  {
   "cell_type": "code",
   "execution_count": 4,
   "metadata": {},
   "outputs": [
    {
     "name": "stdout",
     "output_type": "stream",
     "text": [
      "охова, то я обнаружил искомую книrу. Если же нет, то я бы продолжил\n",
      "идти вправо, просмаrривая книrу за книгой, пока не нашел бы книrу Шолохова или пока\n",
      "не натолкнулся бы на правую стенку полки (и сделал бы вывод, что на этой полке книrи\n",
      "Шолохова нет). (В rлаве 3, \"Алгоритмы сортировки и поиска\", мы узнаем, как искать кни­\n",
      "ги, если они стоят на полке в определенном порядке.)\n",
      "Вот как мы можем описать задачу поиска в вычислительной терминологии. Будем рас­\n",
      "сматривать полку как массив книr. Крайняя слева книrа находится в позиции 1, следую­\n",
      "щая книrа справа он нее находится в позиции 2, и т.д. Если на полке у нас есть п книr,\n",
      "то крайняя справа книrа находится в позиции п. Мы хотим найти номер позиции любой\n",
      "книrи Шолохова на полке.\n",
      "В качестве обобщенной вычислительной задачи мы получаем массив А (вся книжная\n",
      "полка, на которой мы ищем интересующую нас книrу) сп элементами (отдельными книга­\n",
      "ми), и при этом надо выяснить, присутствует ли в массиве А значение х (книrа Шолохова)\n",
      "Если да, то мы хотим знать индекс i, такой, что A[i] = х (т.е. в i-й позиции на полке стоит\n",
      "книrа Шолохова). Мы также должны иметь возможность каким-то образом сообщить, что\n",
      "массив А не содержит элемент х (на полке нет книr Шолохова). Мы не ограничиваем себя\n",
      "предположением, что х содержится в массиве не более одного раза (возможно, на полке\n",
      "несколько книr Шолохова), так что если элемент х присутствует в массиве А, он может\n",
      "встретиться там несколько раз. Все, что мы хотим от алгоритма поиска, - произвольный\n",
      "индекс, по которому мы найдем элемент х в массиве А. Мы предполагаем, что индексы\n",
      "массива начинаются с l, так что ero элементами являются элементы с А [ l] по А [п].\n",
      "Если мы ищем книrу Шолохова, начиная с левого конца полки и проверяя поочередно\n",
      "все книrи слева направо, такой метод называетсялинейнwм поисклм. В терминах массива\n",
      "в памяти компьютера мы начинаем с начала массива (первого ero элемента), поочередно\n",
      "проверяя все ero элементы (A[l], затем А[2], затем А[З] и так далее до А[п]) и записывая\n",
      "\n",
      "496790\n"
     ]
    }
   ],
   "source": [
    "# Читаем алгоритмы Кормена\n",
    "with open('cormen.txt') as f:\n",
    "    cormen = f.read()\n",
    "    cormen = cormen[5000:]\n",
    "print(cormen[37000:39000])\n",
    "print(len(cormen))"
   ]
  },
  {
   "cell_type": "code",
   "execution_count": 5,
   "metadata": {},
   "outputs": [
    {
     "name": "stdout",
     "output_type": "stream",
     "text": [
      "ема. (И кроме\n",
      "того, оно обладает таким преимуществом, как краткость.)\n",
      "\n",
      "1.3. Вход в систему\n",
      "Имя пользователя\n",
      "При входе в  систему UNIX мы вводим имя пользователя и  пароль. После этого система отыскивает введенное имя в  файле паролей; обычно это файл /etc/\n",
      "passwd. Файл паролей содержит записи, состоящие из семи полей, разделенных\n",
      "двоеточием: имя пользователя, зашифрованный пароль, числовой идентификатор\n",
      "пользователя (205), числовой идентификатор группы (105), поле комментария,\n",
      "домашний каталог (/home/sar) и командный интерпретатор (/bin/ksh).\n",
      "sar:x:205:105:Stephen Rago:/home/sar:/bin/ksh\n",
      "\n",
      "Все современные системы хранят пароли в отдельном файле. В главе 6 мы рассмотрим эти файлы и некоторые функции доступа к ним.\n",
      "\n",
      "\f",
      "36    Глава 1. Обзор ОС UNIX\n",
      "\n",
      "Командные оболочки\n",
      "Обычно после входа в систему на экран выводится некоторая системная информация, после чего можно вводить команды, предназначенные для командной\n",
      "оболочки. (В некоторых системах после ввода имени пользователя и пароля запускается графический интерфейс, но и в этом случае, как правило, можно получить доступ к командной оболочке, запустив командный интерпретатор в одном\n",
      "из окон.) Командная оболочка — это интерпретатор командной строки, который\n",
      "читает ввод пользователя и выполняет команды. Ввод пользователя обычно считывается из терминала (интерактивная командная оболочка) или из файла (который называется сценарием командной оболочки). В табл. 1.1 перечислены наиболее\n",
      "распространенные командные оболочки.\n",
      "Таблица 1.1. Наибо\n",
      "2137384\n"
     ]
    }
   ],
   "source": [
    "# Читаем юникс\n",
    "with open('unix.txt') as f:\n",
    "    unix = f.read()\n",
    "    unix = unix[82500:]\n",
    "print(unix[:1500])\n",
    "print(len(unix))"
   ]
  },
  {
   "cell_type": "markdown",
   "metadata": {},
   "source": [
    "## Генератор предложений"
   ]
  },
  {
   "cell_type": "markdown",
   "metadata": {},
   "source": [
    "### Готовая имплементация марковской цепи\n",
    "\n",
    "https://github.com/jsvine/markovify"
   ]
  },
  {
   "cell_type": "code",
   "execution_count": 5,
   "metadata": {},
   "outputs": [],
   "source": [
    "import markovify"
   ]
  },
  {
   "cell_type": "code",
   "execution_count": 6,
   "metadata": {},
   "outputs": [
    {
     "data": {
      "text/plain": [
       "3281837"
      ]
     },
     "execution_count": 6,
     "metadata": {},
     "output_type": "execute_result"
    }
   ],
   "source": [
    "text = bible + cormen + unix[:10 ** 6]\n",
    "len(text)"
   ]
  },
  {
   "cell_type": "code",
   "execution_count": 7,
   "metadata": {},
   "outputs": [],
   "source": [
    "text_m = markovify.Text(text)"
   ]
  },
  {
   "cell_type": "code",
   "execution_count": 8,
   "metadata": {},
   "outputs": [
    {
     "name": "stdout",
     "output_type": "stream",
     "text": [
      "Затем процесс telnetd открывает устройство псевдотерминала и пользовательским терминалом действует еще множество процессов.\n",
      "В то же время сохраняет совместимость с приложениями, использующими его, но ходил в суете, и если никто не устоял против них; и стоят у них кирпичи вместо камней, а земляная смола вместо извести.\n",
      "И подставы сделал он, и вошел вслед за тобою и между Гаем, с западной стороны Гая; а Иисус так и поступает, когда запускает командную оболочку суперпользователя $ tsys printuids реальный uid = 205 нормальное завершение, код выхода = 0 Привилегии суперпользователя, которые мы обсуждали процессы.\n",
      "29 Езекия воцарился двадцати пяти лет был Иосия, когда воцарился, и восемь волов отдал сынам Мерариным, по роду ее, скотов, и гадов и птиц небесных утаена.\n",
      "Имение, которое он сделал резных херувимов и пальмы и распускающиеся цветы и обложил его чистым золотом не оценивается она.\n"
     ]
    }
   ],
   "source": [
    "for i in range(5):\n",
    "    print(text_m.make_sentence())"
   ]
  },
  {
   "cell_type": "markdown",
   "metadata": {},
   "source": [
    "### ... безудержное веселье! \n",
    "* Мы начнем со строки Х и будем твердо стоять за народ наш и за беззакония наши преданы были мы, цари наши, священники наши и дети мои вокруг меня, когда светильник Его светил над головою моею, и я забросил клюшку и щиток.\n",
    "* Но ведь тоrда тщательно выверенная процедура PARTIТION не будет живущих, ибо, кого Ты поразил, они *еще* преследуют, и страдания уязвленных Тобою умножают.\n",
    "* Шаг 2 выполняется ровно n раз, потому что ячмень выколосился, а лен осеменился; а пшеница и полба не побиты, потому что Господь зовет отрока.\n",
    "* Иосиф узнал братьев своих, сыновей царя, со всеми слугами своего господина, и не может сразу следовать за выводом без вызова функций fseek, fsetpos или rewind.\n",
    "* Однако когда программа, использовавшая эту возможность, запускала командную оболочку, чтобы воздействовать на все дни жизни твоей; и очистит священник душу, сделавшую по ошибке согрешит против ближнего своего;\n",
    "* И из сыновей Заффу: Елиоенай, Елияшив, Матфания, Иремоф, Завад и Азиса; и из сыновей своих, чтоб он спас нас от беспокойства по поводу буферизации или оптимальности выбранного размера буфера\n",
    "* Жене сказал: умножая умножу потомство твое, так что каждый вызов read или write обращается к системному вызову ядра.\n",
    "* При захождении солнца приказал Иисус, и сняли их с площади Беф-Сана, где они были перенаправлены в файлы"
   ]
  },
  {
   "cell_type": "code",
   "execution_count": 9,
   "metadata": {},
   "outputs": [],
   "source": [
    "import pickle"
   ]
  },
  {
   "cell_type": "code",
   "execution_count": 11,
   "metadata": {},
   "outputs": [],
   "source": [
    "# сохраним его\n",
    "with open('lm.bin', 'wb') as f:\n",
    "    pickle.dump(text_m, f)"
   ]
  },
  {
   "cell_type": "markdown",
   "metadata": {},
   "source": [
    "### Напишем свой генератор"
   ]
  },
  {
   "cell_type": "code",
   "execution_count": 342,
   "metadata": {},
   "outputs": [
    {
     "data": {
      "text/plain": [
       "['В',\n",
       " 'начале',\n",
       " 'сотворил',\n",
       " 'Бог',\n",
       " 'небо',\n",
       " 'и',\n",
       " 'землю',\n",
       " '.',\n",
       " 'Земля',\n",
       " 'же',\n",
       " 'была',\n",
       " 'безвидна',\n",
       " 'и',\n",
       " 'пуста',\n",
       " ',',\n",
       " 'и',\n",
       " 'тьма',\n",
       " 'над',\n",
       " 'бездною',\n",
       " ',']"
      ]
     },
     "execution_count": 342,
     "metadata": {},
     "output_type": "execute_result"
    }
   ],
   "source": [
    "from nltk.tokenize import word_tokenize\n",
    "corpus = word_tokenize(text)\n",
    "corpus[:20]"
   ]
  },
  {
   "cell_type": "code",
   "execution_count": 347,
   "metadata": {},
   "outputs": [
    {
     "name": "stdout",
     "output_type": "stream",
     "text": [
      "966 152\n"
     ]
    }
   ],
   "source": [
    "freq = nltk.FreqDist(corpus)\n",
    "print(freq['Бог'], freq['вызов'])"
   ]
  },
  {
   "cell_type": "code",
   "execution_count": 348,
   "metadata": {},
   "outputs": [],
   "source": [
    "cfreq = nltk.ConditionalFreqDist(nltk.bigrams(corpus))"
   ]
  },
  {
   "cell_type": "code",
   "execution_count": 351,
   "metadata": {},
   "outputs": [
    {
     "name": "stdout",
     "output_type": "stream",
     "text": [
      "вернет 5\n",
      "используется 3\n",
      "может 4\n",
      "принимает 5\n",
      "вызывается 3\n",
      "возвращает 11\n"
     ]
    }
   ],
   "source": [
    "for key in cfreq['функция']:\n",
    "    if key[0] in 'йцукенгшщзхфывапролджэячсмитьбю' and cfreq['функция'][key] > 2:\n",
    "        print(key, cfreq['функция'][key])"
   ]
  },
  {
   "cell_type": "code",
   "execution_count": 354,
   "metadata": {},
   "outputs": [
    {
     "data": {
      "text/plain": [
       "['В', 'Бог', 'Земля', 'Дух', 'Божий', 'И', 'Бог', 'И', 'И', 'Бог']"
      ]
     },
     "execution_count": 354,
     "metadata": {},
     "output_type": "execute_result"
    }
   ],
   "source": [
    "capitalized = [w for w in corpus if w[0].isupper()]\n",
    "capitalized[:10]"
   ]
  },
  {
   "cell_type": "code",
   "execution_count": 355,
   "metadata": {},
   "outputs": [],
   "source": [
    "cprob = nltk.ConditionalProbDist(cfreq, nltk.MLEProbDist)"
   ]
  },
  {
   "cell_type": "code",
   "execution_count": 358,
   "metadata": {},
   "outputs": [],
   "source": [
    "# функция, которая генерирует предложение из n слов на основании предыдущего слова\n",
    "import random\n",
    "def gen_n_words(n, first_word=None):\n",
    "    if first_word is None:\n",
    "        first_word = random.choice(capitalized)\n",
    "    sent = [first_word]\n",
    "    for i in range(n - 1):\n",
    "        next_w = cprob[sent[-1]].generate()\n",
    "        sent.append(next_w)\n",
    "    return ' '.join(sent)"
   ]
  },
  {
   "cell_type": "code",
   "execution_count": 363,
   "metadata": {},
   "outputs": [
    {
     "name": "stdout",
     "output_type": "stream",
     "text": [
      "Савей , руки всем начальникам племен колена Израилевы мечом . И пришел Гафах\n",
      "В операционных систем из-за сигнала ( 1989 года\n",
      "На другой процесс требует , ибо умирая говорил с ним\n",
      "Вооз старейшинам сказал : Сарра , и не пробудете много лет голода , против\n",
      "Иодай двух вариантов реализации , Шовек , воцарился\n",
      "Ты услышишь и стань передо мною , который ввел\n",
      "Когда будешь ты будешь ] , которые были бы\n",
      "IP6 _POSIX_IPV6 Интерфейсы IPv6 ML _POSIX_MEMLOCK Блокировка области обмена сигналами между всякою душею\n",
      "Файл core SIGFPE Арифметическая проrрессня 45 Чему научит нас . 4.5\n",
      "Урия Хеттеянин также состав бедра своего и червленой\n",
      "Пример Программа echoall argv [ для специальных символов . Сына , вилки , что крупные\n",
      "В составе FreeBSD , откладывается относительно короткие коды символов\n",
      "B ] . У Лавана же образом отдал их , доколе\n",
      "Рис . 7 . И опустил Давид : возьми один\n",
      "Бог и d '' ) +Е\n",
      "У. Мы будем и пришельцы и поселились вместо\n",
      "Египетские ] лет , старейшина Иетеф , создается функцией sigqueue\n",
      "Если же тогда услышь воззвание и когда придет явиться к Ваалу и пепле . Эта\n",
      "UPS ) \\\\n\\ '' . В десять локтей и башни до того , князья общества\n",
      "GNU . И из них до­ бавить вершину горы Ермона , и запускает\n"
     ]
    }
   ],
   "source": [
    "lengths = [5, 6, 7, 8, 8, 9, 9, 10, 10, 10, 11, 11, 12, 13, 14, 15]\n",
    "for i in range(20):\n",
    "    n = random.choice(lengths)\n",
    "    print(gen_n_words(n))"
   ]
  },
  {
   "cell_type": "code",
   "execution_count": 364,
   "metadata": {},
   "outputs": [
    {
     "data": {
      "text/plain": [
       "'Господь ! Побегу я отступлю от Малхиила поколение Хевроново ,'"
      ]
     },
     "execution_count": 364,
     "metadata": {},
     "output_type": "execute_result"
    }
   ],
   "source": [
    "gen_n_words(10, first_word='Господь')"
   ]
  },
  {
   "cell_type": "code",
   "execution_count": 366,
   "metadata": {},
   "outputs": [
    {
     "data": {
      "text/plain": [
       "'Алгоритм Беллмана-Форда4 в каталогах , и пришли Амаликитяне и благополучия во благости'"
      ]
     },
     "execution_count": 366,
     "metadata": {},
     "output_type": "execute_result"
    }
   ],
   "source": [
    "gen_n_words(12, first_word='Алгоритм')"
   ]
  },
  {
   "cell_type": "markdown",
   "metadata": {},
   "source": [
    "Что-то порождать самостоятельно получается, но очень много мусора. Возьмём лучше готовую имплементаию марковской цепи и попытаемся улучшить комедийный эффект."
   ]
  },
  {
   "cell_type": "markdown",
   "metadata": {},
   "source": [
    "## План по захвату мира\n",
    "\n",
    "**Проблема**: не все предложения смешные -- большая часть представляет собой либо что-то библиеподобное, либо программистское.\n",
    "\n",
    "**Задача**: автоопределять смешные предложения, то есть отлавливать такие предложения, которые, с болбшой вероятностью, содержат слова и из библии, и из программирования.\n",
    "\n",
    "**Пути решения**:\n",
    "* через tf-idf\n",
    "* классификатор, выдающий вероятности!"
   ]
  },
  {
   "cell_type": "markdown",
   "metadata": {},
   "source": [
    "### Получаем датасет"
   ]
  },
  {
   "cell_type": "code",
   "execution_count": 7,
   "metadata": {},
   "outputs": [],
   "source": [
    "import numpy as np\n",
    "import pandas as pd\n",
    "from nltk.tokenize import sent_tokenize"
   ]
  },
  {
   "cell_type": "code",
   "execution_count": 8,
   "metadata": {},
   "outputs": [],
   "source": [
    "testament = sent_tokenize(bible)"
   ]
  },
  {
   "cell_type": "code",
   "execution_count": 9,
   "metadata": {},
   "outputs": [
    {
     "name": "stdout",
     "output_type": "stream",
     "text": [
      "['\\n\\nВ начале сотворил Бог небо и землю.', 'Земля же была безвидна и пуста, и тьма над бездною, и Дух Божий носился над водою.', 'И сказал Бог: да будет свет.', 'И стал свет.', 'И увидел Бог свет, что он хорош, и отделил Бог свет от тьмы.', 'И назвал Бог свет днем, а тьму ночью.', 'И был вечер, и было утро: день один.', 'И сказал Бог: да будет твердь посреди воды, и да отделяет она воду от воды.', '[И стало так.]', 'И создал Бог твердь, и отделил воду, которая под твердью, от воды, которая над твердью.', 'И стало так.', 'И назвал Бог твердь небом.', '[И увидел Бог, что *это* хорошо.]', 'И был вечер, и было утро: день второй.', 'И сказал Бог: да соберется вода, которая под небом, в одно место, и да явится суша.']\n"
     ]
    },
    {
     "data": {
      "text/plain": [
       "13318"
      ]
     },
     "execution_count": 9,
     "metadata": {},
     "output_type": "execute_result"
    }
   ],
   "source": [
    "print(testament[:15])\n",
    "len(testament)"
   ]
  },
  {
   "cell_type": "code",
   "execution_count": 10,
   "metadata": {},
   "outputs": [
    {
     "name": "stdout",
     "output_type": "stream",
     "text": [
      "[' Кормен (Renee Connen).', 'Предисловие\\nКак компьютеры решают задачи?', 'Как ваш маленький GPS в считанные секунды на\\xad\\nходит самый быстрый пуrь из несметного множества возможных маршруrов?', 'Когда вы\\nпокупаете что-то в Интернете, как обеспечивается защита номера вашей кредитной карты\\nот перехвата злоумышленником?', 'Оrветом на эти и массу других вопросов являются алго\\xad\\nритмы.', 'Я написал эту книгу, чтобы раскрыть вам тайны алгоритмов.', 'Я - соавтор учебника Алгоритмы: построение и анализ.', 'Это замечательная книга\\n(конечно, я небеспристрастен), но местами она представляет собой практически научный\\nтруд.', 'Книга, которую вы держите в своих руках, - совершенно иная.', 'Это даже не учеб\\xad\\nник.', 'Она не погружается в алгоритмы достаточно rnубоко, не охватывает их разнообразие\\nсколь-нибудь широко, не учит методам проектирования компьютерных алгоритмов, и в\\nней даже нет задач и упражнений, которые должен решать читатель!', 'Так что же представ\\xad\\nляет собой эта книга?', 'Это отправная точка для вас, если вы\\n• интересуетесь тем, как компьютеры решают поставленные перед ними задачи;\\n• хотите знать, как оценить качество этих решений;\\n• хотите понимать, как задачи, решаемые компьютерами, и используемые для этого ме\\xad\\nтоды связаны с реальным, некомпьютерным миром;\\n• не очень сильны в математике;\\n• не написали ни одной программы (впрочем, умение программировать нисколько не\\nмешает чтению данной книги, даже наоборот).', 'Некоторые книги о компьютерных алгоритмах концептуальны, с небольшим количе\\xad\\nством технических деталей.', 'Некоторые из них переполнены технически точными описа\\xad\\nниями.']\n"
     ]
    },
    {
     "data": {
      "text/plain": [
       "11584"
      ]
     },
     "execution_count": 10,
     "metadata": {},
     "output_type": "execute_result"
    }
   ],
   "source": [
    "coding = sent_tokenize(cormen + unix[:10 ** 6])\n",
    "print(coding[:15])\n",
    "len(coding)"
   ]
  },
  {
   "cell_type": "code",
   "execution_count": 11,
   "metadata": {},
   "outputs": [],
   "source": [
    "sentences = testament + coding\n",
    "labels = ['testament'] * len(testament) + ['coding'] * len(coding)"
   ]
  },
  {
   "cell_type": "code",
   "execution_count": 12,
   "metadata": {},
   "outputs": [
    {
     "data": {
      "text/html": [
       "<div>\n",
       "<style scoped>\n",
       "    .dataframe tbody tr th:only-of-type {\n",
       "        vertical-align: middle;\n",
       "    }\n",
       "\n",
       "    .dataframe tbody tr th {\n",
       "        vertical-align: top;\n",
       "    }\n",
       "\n",
       "    .dataframe thead th {\n",
       "        text-align: right;\n",
       "    }\n",
       "</style>\n",
       "<table border=\"1\" class=\"dataframe\">\n",
       "  <thead>\n",
       "    <tr style=\"text-align: right;\">\n",
       "      <th></th>\n",
       "      <th>labels</th>\n",
       "      <th>sentences</th>\n",
       "    </tr>\n",
       "  </thead>\n",
       "  <tbody>\n",
       "    <tr>\n",
       "      <th>0</th>\n",
       "      <td>testament</td>\n",
       "      <td>\\n\\nВ начале сотворил Бог небо и землю.</td>\n",
       "    </tr>\n",
       "    <tr>\n",
       "      <th>1</th>\n",
       "      <td>testament</td>\n",
       "      <td>Земля же была безвидна и пуста, и тьма над без...</td>\n",
       "    </tr>\n",
       "    <tr>\n",
       "      <th>2</th>\n",
       "      <td>testament</td>\n",
       "      <td>И сказал Бог: да будет свет.</td>\n",
       "    </tr>\n",
       "    <tr>\n",
       "      <th>3</th>\n",
       "      <td>testament</td>\n",
       "      <td>И стал свет.</td>\n",
       "    </tr>\n",
       "    <tr>\n",
       "      <th>4</th>\n",
       "      <td>testament</td>\n",
       "      <td>И увидел Бог свет, что он хорош, и отделил Бог...</td>\n",
       "    </tr>\n",
       "  </tbody>\n",
       "</table>\n",
       "</div>"
      ],
      "text/plain": [
       "      labels                                          sentences\n",
       "0  testament            \\n\\nВ начале сотворил Бог небо и землю.\n",
       "1  testament  Земля же была безвидна и пуста, и тьма над без...\n",
       "2  testament                       И сказал Бог: да будет свет.\n",
       "3  testament                                       И стал свет.\n",
       "4  testament  И увидел Бог свет, что он хорош, и отделил Бог..."
      ]
     },
     "execution_count": 12,
     "metadata": {},
     "output_type": "execute_result"
    }
   ],
   "source": [
    "df = pd.DataFrame({'sentences' : sentences, 'labels': labels})\n",
    "df.head()"
   ]
  },
  {
   "cell_type": "code",
   "execution_count": 13,
   "metadata": {},
   "outputs": [
    {
     "data": {
      "text/html": [
       "<div>\n",
       "<style scoped>\n",
       "    .dataframe tbody tr th:only-of-type {\n",
       "        vertical-align: middle;\n",
       "    }\n",
       "\n",
       "    .dataframe tbody tr th {\n",
       "        vertical-align: top;\n",
       "    }\n",
       "\n",
       "    .dataframe thead th {\n",
       "        text-align: right;\n",
       "    }\n",
       "</style>\n",
       "<table border=\"1\" class=\"dataframe\">\n",
       "  <thead>\n",
       "    <tr style=\"text-align: right;\">\n",
       "      <th></th>\n",
       "      <th>labels</th>\n",
       "      <th>sentences</th>\n",
       "    </tr>\n",
       "  </thead>\n",
       "  <tbody>\n",
       "    <tr>\n",
       "      <th>0</th>\n",
       "      <td>testament</td>\n",
       "      <td>И сказал Авенир Иоаву: пусть встанут юноши и п...</td>\n",
       "    </tr>\n",
       "    <tr>\n",
       "      <th>1</th>\n",
       "      <td>testament</td>\n",
       "      <td>Итак, соблюдай заповеди и постановления и зако...</td>\n",
       "    </tr>\n",
       "    <tr>\n",
       "      <th>2</th>\n",
       "      <td>testament</td>\n",
       "      <td>А все оставшиеся во всех местах, где бы тот ни...</td>\n",
       "    </tr>\n",
       "    <tr>\n",
       "      <th>3</th>\n",
       "      <td>testament</td>\n",
       "      <td>И сделал завесу ко входу скинии из голубой, пу...</td>\n",
       "    </tr>\n",
       "    <tr>\n",
       "      <th>4</th>\n",
       "      <td>testament</td>\n",
       "      <td>23\\n\\nГосподня земля и что наполняет ее, вселе...</td>\n",
       "    </tr>\n",
       "    <tr>\n",
       "      <th>5</th>\n",
       "      <td>testament</td>\n",
       "      <td>И собрались все Израильтяне против города един...</td>\n",
       "    </tr>\n",
       "    <tr>\n",
       "      <th>6</th>\n",
       "      <td>coding</td>\n",
       "      <td>Например, старшие и  младшие номера устройств\\...</td>\n",
       "    </tr>\n",
       "    <tr>\n",
       "      <th>7</th>\n",
       "      <td>testament</td>\n",
       "      <td>И будут праздноваться эти дни месяца Адара, в ...</td>\n",
       "    </tr>\n",
       "    <tr>\n",
       "      <th>8</th>\n",
       "      <td>coding</td>\n",
       "      <td>360    Глава 9.</td>\n",
       "    </tr>\n",
       "    <tr>\n",
       "      <th>9</th>\n",
       "      <td>coding</td>\n",
       "      <td>Вход с терминала   \\n\\n351\\n\\nновой почты и вы...</td>\n",
       "    </tr>\n",
       "  </tbody>\n",
       "</table>\n",
       "</div>"
      ],
      "text/plain": [
       "      labels                                          sentences\n",
       "0  testament  И сказал Авенир Иоаву: пусть встанут юноши и п...\n",
       "1  testament  Итак, соблюдай заповеди и постановления и зако...\n",
       "2  testament  А все оставшиеся во всех местах, где бы тот ни...\n",
       "3  testament  И сделал завесу ко входу скинии из голубой, пу...\n",
       "4  testament  23\\n\\nГосподня земля и что наполняет ее, вселе...\n",
       "5  testament  И собрались все Израильтяне против города един...\n",
       "6     coding  Например, старшие и  младшие номера устройств\\...\n",
       "7  testament  И будут праздноваться эти дни месяца Адара, в ...\n",
       "8     coding                                    360    Глава 9.\n",
       "9     coding  Вход с терминала   \\n\\n351\\n\\nновой почты и вы..."
      ]
     },
     "execution_count": 13,
     "metadata": {},
     "output_type": "execute_result"
    }
   ],
   "source": [
    "# перемешаем данные\n",
    "df = df.sample(frac=1).reset_index(drop=True)\n",
    "df.head(10)"
   ]
  },
  {
   "cell_type": "code",
   "execution_count": 13,
   "metadata": {},
   "outputs": [],
   "source": [
    "# и сохраним, а то сколько можно\n",
    "df.to_csv('bible_vs_coding.csv', index=False)"
   ]
  },
  {
   "cell_type": "code",
   "execution_count": 37,
   "metadata": {},
   "outputs": [],
   "source": [
    "!mv bible_vs_coding.csv data/"
   ]
  },
  {
   "cell_type": "code",
   "execution_count": 14,
   "metadata": {},
   "outputs": [],
   "source": [
    "from sklearn.model_selection import train_test_split"
   ]
  },
  {
   "cell_type": "code",
   "execution_count": 15,
   "metadata": {},
   "outputs": [],
   "source": [
    "X_train, X_test, y_train, y_test = train_test_split(df['sentences'], df['labels'], test_size=0.2, random_state=42)"
   ]
  },
  {
   "cell_type": "markdown",
   "metadata": {},
   "source": [
    "### Предобработка"
   ]
  },
  {
   "cell_type": "code",
   "execution_count": 15,
   "metadata": {},
   "outputs": [
    {
     "data": {
      "text/plain": [
       "['и', 'в', 'во', 'не', 'что', 'он', 'на', 'я', 'с', 'со']"
      ]
     },
     "execution_count": 15,
     "metadata": {},
     "output_type": "execute_result"
    }
   ],
   "source": [
    "from nltk.corpus import stopwords\n",
    "from nltk.tokenize import word_tokenize\n",
    "stopset = stopwords.words('russian')\n",
    "stopset[:10]"
   ]
  },
  {
   "cell_type": "code",
   "execution_count": 16,
   "metadata": {},
   "outputs": [
    {
     "data": {
      "text/plain": [
       "['!', '\"', '#', '$', '%', '&', \"'\", '(', ')', '*', '+', ',', '-', '.', '/']"
      ]
     },
     "execution_count": 16,
     "metadata": {},
     "output_type": "execute_result"
    }
   ],
   "source": [
    "from string import punctuation\n",
    "punct = list(punctuation)\n",
    "punct[:15]"
   ]
  },
  {
   "cell_type": "code",
   "execution_count": 17,
   "metadata": {},
   "outputs": [],
   "source": [
    "def my_preprocessor(text):\n",
    "    text = word_tokenize(text.lower()) # приводим к нижнему регистру и токенизируем\n",
    "    return [w for w in text if w not in stopset + punct] # убираем стоп-слова и пунктуацию"
   ]
  },
  {
   "cell_type": "code",
   "execution_count": 18,
   "metadata": {},
   "outputs": [],
   "source": [
    "from pymystem3 import Mystem\n",
    "def preproc_lemmitize(text):\n",
    "    m = Mystem()\n",
    "    text = m.lemmatize(text.lower()) # приводим к нижнему регистру и токенизируем\n",
    "    return [w for w in text if w not in stopset + punct]"
   ]
  },
  {
   "cell_type": "code",
   "execution_count": 19,
   "metadata": {},
   "outputs": [
    {
     "data": {
      "text/plain": [
       "[' ', 'сказать', ' ', 'бог', ': ', ' ', ' ', 'свет', '\\n']"
      ]
     },
     "execution_count": 19,
     "metadata": {},
     "output_type": "execute_result"
    }
   ],
   "source": [
    "preproc_lemmitize('И сказал Бог: да будет свет.')"
   ]
  },
  {
   "cell_type": "markdown",
   "metadata": {},
   "source": [
    "### Классификация"
   ]
  },
  {
   "cell_type": "code",
   "execution_count": 16,
   "metadata": {},
   "outputs": [],
   "source": [
    "from sklearn.pipeline import Pipeline\n",
    "from sklearn.feature_extraction.text import TfidfVectorizer\n",
    "from sklearn.metrics import classification_report\n",
    "from sklearn.metrics import accuracy_score\n",
    "from sklearn.naive_bayes import MultinomialNB"
   ]
  },
  {
   "cell_type": "markdown",
   "metadata": {},
   "source": [
    "Перед наивным Байесом я попробовала DecisionTreeClassifier. Он работал с f-мерой ~96, но очень плохо выдавал условные вероятности (в основном 0.0, 1.0). У MultinomialNB и лучше f-мера, и условные вероятности позволяют принимать решение о \"нетипичности\" фразы.\n",
    "\n",
    "Препроцессинг с помощью mystem работал слишком долго."
   ]
  },
  {
   "cell_type": "code",
   "execution_count": 27,
   "metadata": {},
   "outputs": [],
   "source": [
    "dt = Pipeline(\n",
    "    [('vect', TfidfVectorizer(min_df=5) #, tokenizer=my_preprocessor)),\n",
    "    ('tree', DecisionTreeClassifier(random_state=42))]\n",
    ")\n",
    "dt.fit(X_train, y=y_train)"
   ]
  },
  {
   "cell_type": "code",
   "execution_count": 379,
   "metadata": {},
   "outputs": [
    {
     "name": "stdout",
     "output_type": "stream",
     "text": [
      "             precision    recall  f1-score   support\n",
      "\n",
      "     coding       0.94      0.97      0.96      2308\n",
      "  testament       0.97      0.95      0.96      2673\n",
      "\n",
      "avg / total       0.96      0.96      0.96      4981\n",
      "\n",
      "0.9590443686006825\n"
     ]
    }
   ],
   "source": [
    "print(classification_report(y_test, dt.predict(X_test)))\n",
    "print(accuracy_score(y_test, dt.predict(X_test)))"
   ]
  },
  {
   "cell_type": "code",
   "execution_count": 28,
   "metadata": {},
   "outputs": [
    {
     "data": {
      "text/plain": [
       "Pipeline(memory=None,\n",
       "     steps=[('vect', TfidfVectorizer(analyzer='word', binary=False, decode_error='strict',\n",
       "        dtype=<class 'numpy.int64'>, encoding='utf-8', input='content',\n",
       "        lowercase=True, max_df=1.0, max_features=None, min_df=5,\n",
       "        ngram_range=(1, 1), norm='l2', preprocessor=None, smooth_idf=True,\n",
       "  ...use_idf=True, vocabulary=None)), ('nb', MultinomialNB(alpha=1.0, class_prior=None, fit_prior=True))])"
      ]
     },
     "execution_count": 28,
     "metadata": {},
     "output_type": "execute_result"
    }
   ],
   "source": [
    "ppl = Pipeline(\n",
    "    [('vect', TfidfVectorizer(min_df=5, tokenizer=my_preprocessor)),\n",
    "    ('nb', MultinomialNB())]\n",
    ")\n",
    "ppl.fit(X_train, y=y_train)"
   ]
  },
  {
   "cell_type": "code",
   "execution_count": 29,
   "metadata": {},
   "outputs": [
    {
     "name": "stdout",
     "output_type": "stream",
     "text": [
      "             precision    recall  f1-score   support\n",
      "\n",
      "     coding       1.00      0.98      0.99      2322\n",
      "  testament       0.98      1.00      0.99      2659\n",
      "\n",
      "avg / total       0.99      0.99      0.99      4981\n",
      "\n",
      "0.9875527002609917\n"
     ]
    }
   ],
   "source": [
    "print(classification_report(y_test, ppl.predict(X_test)))\n",
    "print(accuracy_score(y_test, ppl.predict(X_test)))"
   ]
  },
  {
   "cell_type": "code",
   "execution_count": 30,
   "metadata": {},
   "outputs": [
    {
     "data": {
      "text/plain": [
       "array([[0.24884245, 0.75115755]])"
      ]
     },
     "execution_count": 30,
     "metadata": {},
     "output_type": "execute_result"
    }
   ],
   "source": [
    "ppl.predict_proba(['Но ведь тоrда тщательно выверенная процедура PARTIТION не будет живущих, ибо'])"
   ]
  },
  {
   "cell_type": "markdown",
   "metadata": {},
   "source": [
    "Урааа, работает! Теперь можно захватывать мир."
   ]
  },
  {
   "cell_type": "code",
   "execution_count": 31,
   "metadata": {},
   "outputs": [
    {
     "name": "stdout",
     "output_type": "stream",
     "text": [
      "[[0.8528244 0.1471756]]\n",
      "[[0.00217091 0.99782909]]\n",
      "[[0.99716018 0.00283982]]\n"
     ]
    }
   ],
   "source": [
    "print(ppl.predict_proba(['Шаг 2 выполняется ровно n раз, потому что ячмень выколосился, а лен осеменился; а пшеница и полба не побиты, потому что Господь зовет отрока.']))\n",
    "print(ppl.predict_proba(['Потом пошел Авимелех на гору Селмон, сам и дом царский для себя.']))\n",
    "print(ppl.predict_proba(['Процедура Bu1LD-HUFFМAN-TREE служит примером жадного алгоритма, в котором длина строк превышает 4 байта?']))"
   ]
  },
  {
   "cell_type": "code",
   "execution_count": 32,
   "metadata": {},
   "outputs": [],
   "source": [
    "# и модель сохраним, давно пора\n",
    "\n",
    "import pickle\n",
    "\n",
    "with open('algtest_classifyer.clf', 'wb') as f:\n",
    "    pickle.dump(ppl, f)"
   ]
  },
  {
   "cell_type": "code",
   "execution_count": 36,
   "metadata": {},
   "outputs": [
    {
     "name": "stdout",
     "output_type": "stream",
     "text": [
      "-rw-rw-r-- 1 maryszmary maryszmary 1,8M мар 25 13:50 algtest_classifyer.clf\r\n"
     ]
    }
   ],
   "source": [
    "!ls -lh *.clf"
   ]
  },
  {
   "cell_type": "markdown",
   "metadata": {},
   "source": [
    "### Захват мира\n",
    "\n",
    "Напишем функцию, которая находит что-то весёлое:"
   ]
  },
  {
   "cell_type": "code",
   "execution_count": 298,
   "metadata": {},
   "outputs": [],
   "source": [
    "def isFunny(sent, model, min_p, max_p):\n",
    "    return min_p < model.predict_proba([sent])[0][1] < max_p"
   ]
  },
  {
   "cell_type": "markdown",
   "metadata": {},
   "source": [
    "**Настройки функции**: с min_p и max_p можно играться. Наибольшая точность достигается в районе 0.01 и 0.97 соответственно. Однако, так как нас не так сильно беспокоят false negative -- главное, чтобы не было false positive -- лучше сделать этот порог повыше."
   ]
  },
  {
   "cell_type": "code",
   "execution_count": 290,
   "metadata": {},
   "outputs": [
    {
     "name": "stdout",
     "output_type": "stream",
     "text": [
      "ибо хлеба не стало воды в морях, и птицы да размножаются на земле.\n",
      "False\n",
      "\n",
      "В третий год царствования Давида над Израилем навек>. И ныне, Господи Боже, упование мое в ликование, снял с рамен его тяжести, и восемьдесят тысяч каменосеков в горах, ибо не найдет рука его, которую он пролил, наполнив Иерусалим кровью невинною, Господь не вменит греха, и в руке моей?\n",
      "False\n",
      "\n",
      "И сказал Давид Анхусу: ныне ты узнаешь, что город этот издавна восставал против царей, и производились в нем разрубил.\n",
      "False\n",
      "\n",
      " Функция opendir возвращает указатель на локальную переменную с автоматическим классом размещения.\n",
      "False\n",
      "\n",
      "Функция nanosleep похожа на проказу кожи тела, то он позволяет указать процесс, завершения которого необходимо дождаться, в то время повеления обо всем, что принадлежит Навалу, я оставлю мочащегося к стене, ни родственников его, ни благословлять не благословляй его.\n",
      "True\n",
      "\n",
      "Понадеешься ли на земле семь дней ешь пресный хлеб, как Я отнял от Саула, чтобы пасти овец отца своего Дана, сына Израилева; а прежде всякой травы засыхает.\n",
      "False\n",
      "\n",
      "Слушай, Израиль: Господь, Бог Илии, -- Он солгал ему.\n",
      "False\n",
      "\n",
      "Данная программа не имеет в устах своих, то не оговаривается, будет ли палящий ветер, ржавчина, саранча, червь, неприятель ли будет путь их есть безумие их, хотя последующие за ними в долине Рефаимов.\n",
      "True\n",
      "\n",
      "Тогда Иисус призвал всех Израильтян в Массифу и сказал им: нет, братья мои, после того, как текущая функция вернет только часть строки, но это совершенно необязательно.\n",
      "True\n",
      "\n",
      "В 4.3BSD этот сигнал явно, демоны никогда не добере­ тесь.\n",
      "False\n",
      "\n"
     ]
    }
   ],
   "source": [
    "for i in range(10):\n",
    "    sent = text_m.make_sentence()\n",
    "    print(sent, sep=', ')\n",
    "    print(isFunny(sent, ppl, 0.01, 0.98))\n",
    "    print()"
   ]
  },
  {
   "cell_type": "code",
   "execution_count": 332,
   "metadata": {},
   "outputs": [],
   "source": [
    "# а теперь нпишем функ\n",
    "def gen_funny(text_model, funny_model):\n",
    "    funny = []\n",
    "    for i in range(100):\n",
    "        sent = text_model.make_sentence()\n",
    "        if isFunny(sent, funny_model, 0.15, 0.97):\n",
    "            funny.append(sent)\n",
    "        if len(funny) == 3:\n",
    "            return funny\n",
    "    return funny"
   ]
  },
  {
   "cell_type": "code",
   "execution_count": 340,
   "metadata": {},
   "outputs": [
    {
     "data": {
      "text/plain": [
       "['SIGPOLL Отмечен как устаревший интерфейс и в прах на голове язва.',\n",
       " 'В конце раздела 7.6 мы не видим, нет уже пророка, и тот же ключ, о котором знал, что не Бог долин>, Я все знаю; *знаю* и дерзость твою против Меня.',\n",
       " 'В письме он написал так: поставьте Урию там, где для первого месяца, и благословил Господь Аведдара и все, что в массиве отсутствует, то цикл будет выполняться итерация цикла.']"
      ]
     },
     "execution_count": 340,
     "metadata": {},
     "output_type": "execute_result"
    }
   ],
   "source": [
    "gen_funny(text_m, ppl)"
   ]
  },
  {
   "cell_type": "markdown",
   "metadata": {},
   "source": [
    "### Оценка качества"
   ]
  },
  {
   "cell_type": "code",
   "execution_count": 386,
   "metadata": {},
   "outputs": [],
   "source": [
    "# сгененрируем и разметим данные\n",
    "alg_test = 'sent\\tis_funny\\n'\n",
    "for i in range(200):\n",
    "    sent = text_m.make_sentence()\n",
    "    alg_test += sent + '\\t\\n'\n",
    "with open('Algorithm_Testament.csv', 'w') as f:\n",
    "    f.write(alg_test)"
   ]
  },
  {
   "cell_type": "code",
   "execution_count": 388,
   "metadata": {},
   "outputs": [
    {
     "name": "stdout",
     "output_type": "stream",
     "text": [
      "sent\tis_funny\n",
      "Если процесс не вызовет функцию exit, _exit или _Exit.\t\n",
      "А в своего рода ляп, который присутствует во многих программных пакетах, и существуют ее реализации для большого количества систем.\t\n",
      "И видел Давид, что Навал умер, и сыновей его, павших на горе Ефремовой; и построил замок и укрепления его, и пусть народ выходит и опадает; убегает, как тень, и не оставляют для пропитания Израилю \n"
     ]
    }
   ],
   "source": [
    "print(alg_test[:400])"
   ]
  },
  {
   "cell_type": "code",
   "execution_count": 416,
   "metadata": {},
   "outputs": [],
   "source": [
    "df = pd.read_csv('Algorithm_Testament.csv', sep='\\t')"
   ]
  },
  {
   "cell_type": "code",
   "execution_count": 417,
   "metadata": {},
   "outputs": [
    {
     "data": {
      "text/html": [
       "<div>\n",
       "<style scoped>\n",
       "    .dataframe tbody tr th:only-of-type {\n",
       "        vertical-align: middle;\n",
       "    }\n",
       "\n",
       "    .dataframe tbody tr th {\n",
       "        vertical-align: top;\n",
       "    }\n",
       "\n",
       "    .dataframe thead th {\n",
       "        text-align: right;\n",
       "    }\n",
       "</style>\n",
       "<table border=\"1\" class=\"dataframe\">\n",
       "  <thead>\n",
       "    <tr style=\"text-align: right;\">\n",
       "      <th></th>\n",
       "      <th>sent</th>\n",
       "      <th>is_funny</th>\n",
       "    </tr>\n",
       "  </thead>\n",
       "  <tbody>\n",
       "    <tr>\n",
       "      <th>0</th>\n",
       "      <td>Если процесс не вызовет функцию exit, _exit ил...</td>\n",
       "      <td>0.0</td>\n",
       "    </tr>\n",
       "    <tr>\n",
       "      <th>1</th>\n",
       "      <td>А в своего рода ляп, который присутствует во м...</td>\n",
       "      <td>0.0</td>\n",
       "    </tr>\n",
       "    <tr>\n",
       "      <th>2</th>\n",
       "      <td>И видел Давид, что Навал умер, и сыновей его, ...</td>\n",
       "      <td>0.0</td>\n",
       "    </tr>\n",
       "    <tr>\n",
       "      <th>3</th>\n",
       "      <td>Взаимоотношения между процессами управления за...</td>\n",
       "      <td>1.0</td>\n",
       "    </tr>\n",
       "    <tr>\n",
       "      <th>4</th>\n",
       "      <td>И ты будешь царствовать над ними.</td>\n",
       "      <td>0.0</td>\n",
       "    </tr>\n",
       "  </tbody>\n",
       "</table>\n",
       "</div>"
      ],
      "text/plain": [
       "                                                sent  is_funny\n",
       "0  Если процесс не вызовет функцию exit, _exit ил...       0.0\n",
       "1  А в своего рода ляп, который присутствует во м...       0.0\n",
       "2  И видел Давид, что Навал умер, и сыновей его, ...       0.0\n",
       "3  Взаимоотношения между процессами управления за...       1.0\n",
       "4                  И ты будешь царствовать над ними.       0.0"
      ]
     },
     "execution_count": 417,
     "metadata": {},
     "output_type": "execute_result"
    }
   ],
   "source": [
    "df.head()"
   ]
  },
  {
   "cell_type": "code",
   "execution_count": 418,
   "metadata": {},
   "outputs": [
    {
     "data": {
      "text/plain": [
       "['Взаимоотношения между процессами управления заданиями, мы говорили о Боге Иерусалима, как вводил в блужение Иудею и на холмах и под рукою Хонании и Симея, брата его, Авеля.',\n",
       " 'Жене сказал: умножая умножу потомство твое, так что каждый вызов read или write обращается к системному вызову ядра.',\n",
       " 'И кости Иосифа, которые вынесли сыны Израилевы Моисею: вот, сегодня принесли они жертву свою за грех мой, Господи; Бог мой даровал мне покой отовсюду: нет противника и нет целого места в линейном порядке ранее, и передача функции free указателя, который не грешил бы, -- и вы избили их с дерев, и кипарису и певгового дерева с Ливана, сколько нужно тебе, и если кто толкнет кого по ненависти, или с битами ключа.']"
      ]
     },
     "execution_count": 418,
     "metadata": {},
     "output_type": "execute_result"
    }
   ],
   "source": [
    "[sent for sent in df[df['is_funny'] == 1].sent][:3]"
   ]
  },
  {
   "cell_type": "code",
   "execution_count": 422,
   "metadata": {},
   "outputs": [],
   "source": [
    "df['is_funny'] = [int(n) if n == \"NaN\" else 0 for n in df.is_funny]"
   ]
  },
  {
   "cell_type": "code",
   "execution_count": 453,
   "metadata": {},
   "outputs": [
    {
     "name": "stdout",
     "output_type": "stream",
     "text": [
      "0.855\n"
     ]
    }
   ],
   "source": [
    "fun_estim = [int(isFunny(sent, ppl, 0.1, 0.9)) for sent in df.sent]\n",
    "print(accuracy_score(fun_estim, df.is_funny))"
   ]
  },
  {
   "cell_type": "code",
   "execution_count": 454,
   "metadata": {},
   "outputs": [],
   "source": [
    "df['estim'] = fun_estim"
   ]
  },
  {
   "cell_type": "code",
   "execution_count": 459,
   "metadata": {},
   "outputs": [
    {
     "data": {
      "text/plain": [
       "['Взаимоотношения между процессами управления заданиями, мы говорили о Боге Иерусалима, как вводил в блужение Иудею и на холмах и под рукою Хонании и Симея, брата его, Авеля.',\n",
       " 'Не может быть от Тебя!',\n",
       " 'Жене сказал: умножая умножу потомство твое, так что каждый вызов read или write обращается к системному вызову ядра.',\n",
       " 'Смотрите, поступайте так, как делают пчелы, и поражали их до Нофы, которая близ Медевы.',\n",
       " 'Вы видели всё, что он может вызвать нарушения в работе приложения.']"
      ]
     },
     "execution_count": 459,
     "metadata": {},
     "output_type": "execute_result"
    }
   ],
   "source": [
    "[sent for sent in df[df['estim'] == 1].sent][:5]"
   ]
  },
  {
   "cell_type": "markdown",
   "metadata": {},
   "source": [
    "## Итог\n",
    "\n",
    "* у нас есть генератор высказываний, натренирванный на текстах Ветхого Завета, учебника по алгоримам и учебника по UNIX\n",
    "* мы умеем автоматически определять смешные предложения!\n",
    "* MultinomialNB справляется с этим намноооого лучше, чем деревья решений\n",
    "* MultinomialNB умеет классифицировать тексты на библию и программирование с f-мерой 0.98\n",
    "* *Всякий раз, когда нас интересует только та функциональность, которую мы проходили для осмотра, есть земля, поедающая живущих на Сеире, и Моавитяне, живущие в них.*\n",
    "* *Мы работаем с книгами, уже отсортированными по автору и что пользы мне?*"
   ]
  }
 ],
 "metadata": {
  "kernelspec": {
   "display_name": "Python 3",
   "language": "python",
   "name": "python3"
  },
  "language_info": {
   "codemirror_mode": {
    "name": "ipython",
    "version": 3
   },
   "file_extension": ".py",
   "mimetype": "text/x-python",
   "name": "python",
   "nbconvert_exporter": "python",
   "pygments_lexer": "ipython3",
   "version": "3.5.2"
  }
 },
 "nbformat": 4,
 "nbformat_minor": 2
}
